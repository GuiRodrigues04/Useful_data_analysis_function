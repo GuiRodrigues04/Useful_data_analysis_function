{
 "cells": [
  {
   "cell_type": "markdown",
   "id": "37f5aa44",
   "metadata": {},
   "source": [
    "# Useful Functions\n"
   ]
  },
  {
   "cell_type": "markdown",
   "id": "640b66f4",
   "metadata": {},
   "source": [
    "This is a notebook that I will use just to write and explain some functions that I wrote to let my Analysis easier. It's important to say that I am not a ultra smart guy that knows everthing about data analysis and algorithm, I strongly believe that does't exist anyone like that, but who knows? So my codes won't be perfect and during my endless process of learning coding and algorithm I'll edit this note to let it \"better\"."
   ]
  },
  {
   "cell_type": "markdown",
   "id": "60eff170",
   "metadata": {},
   "source": [
    "### Function 1\n",
    "#### Function that count the repetitions of any value of any column  based on the values of some previous column."
   ]
  },
  {
   "cell_type": "markdown",
   "id": "89bcdd2c",
   "metadata": {},
   "source": [
    "Well, i know it's hard to understand but imagine that i have a column of ages and other of gender. Then i want to know the value of how much each gender repeat for each age. So I use this function.\n"
   ]
  },
  {
   "cell_type": "code",
   "execution_count": 11,
   "id": "7c9c8b0d",
   "metadata": {},
   "outputs": [],
   "source": [
    "#chart is the DataFrame. # column1 is the comlumn tha we will use of base  # column2  is the repetitions column\n",
    "def something_per_something(chart, column1, column2):\n",
    "    dataframe = chart[[column1, column2]]\n",
    "    column1_list = chart[column1].unique()\n",
    "    column2_list = chart[column2].unique()\n",
    "    columns_transpose = []\n",
    "    for item1 in column1_list:\n",
    "        item_dataframe = dataframe[dataframe[column1] == item1]\n",
    "        columns_transpose_lines = []\n",
    "        for item2 in column2_list:\n",
    "            columns_transpose_lines.append(item_dataframe[item_dataframe[column2] == item2].size / 2)\n",
    "        columns_transpose.append(columns_transpose_lines)\n",
    "    \n",
    "    final_dataframe = pd.DataFrame()\n",
    "    final_dataframe[column1] = column1_list\n",
    "    final_columns = np.transpose(np.array(columns_transpose))\n",
    "    \n",
    "    x = 0\n",
    "    for i in final_columns:\n",
    "        final_dataframe[column2_list[x]] = i\n",
    "        x += 1\n",
    "        \n",
    "    return final_dataframe"
   ]
  },
  {
   "cell_type": "markdown",
   "id": "62c8c6c0",
   "metadata": {},
   "source": [
    "##### Exemple"
   ]
  },
  {
   "cell_type": "code",
   "execution_count": 12,
   "id": "a0524a08",
   "metadata": {},
   "outputs": [
    {
     "name": "stdout",
     "output_type": "stream",
     "text": [
      "Original DataFrame\n"
     ]
    },
    {
     "data": {
      "text/html": [
       "<div>\n",
       "<style scoped>\n",
       "    .dataframe tbody tr th:only-of-type {\n",
       "        vertical-align: middle;\n",
       "    }\n",
       "\n",
       "    .dataframe tbody tr th {\n",
       "        vertical-align: top;\n",
       "    }\n",
       "\n",
       "    .dataframe thead th {\n",
       "        text-align: right;\n",
       "    }\n",
       "</style>\n",
       "<table border=\"1\" class=\"dataframe\">\n",
       "  <thead>\n",
       "    <tr style=\"text-align: right;\">\n",
       "      <th></th>\n",
       "      <th>age</th>\n",
       "      <th>gender</th>\n",
       "    </tr>\n",
       "  </thead>\n",
       "  <tbody>\n",
       "    <tr>\n",
       "      <th>0</th>\n",
       "      <td>10</td>\n",
       "      <td>male</td>\n",
       "    </tr>\n",
       "    <tr>\n",
       "      <th>1</th>\n",
       "      <td>9</td>\n",
       "      <td>female</td>\n",
       "    </tr>\n",
       "    <tr>\n",
       "      <th>2</th>\n",
       "      <td>9</td>\n",
       "      <td>male</td>\n",
       "    </tr>\n",
       "    <tr>\n",
       "      <th>3</th>\n",
       "      <td>9</td>\n",
       "      <td>female</td>\n",
       "    </tr>\n",
       "    <tr>\n",
       "      <th>4</th>\n",
       "      <td>12</td>\n",
       "      <td>female</td>\n",
       "    </tr>\n",
       "  </tbody>\n",
       "</table>\n",
       "</div>"
      ],
      "text/plain": [
       "   age  gender\n",
       "0   10    male\n",
       "1    9  female\n",
       "2    9    male\n",
       "3    9  female\n",
       "4   12  female"
      ]
     },
     "metadata": {},
     "output_type": "display_data"
    },
    {
     "name": "stdout",
     "output_type": "stream",
     "text": [
      "\n",
      "Count of how much females and males are per each age DataFrame\n"
     ]
    },
    {
     "data": {
      "text/html": [
       "<div>\n",
       "<style scoped>\n",
       "    .dataframe tbody tr th:only-of-type {\n",
       "        vertical-align: middle;\n",
       "    }\n",
       "\n",
       "    .dataframe tbody tr th {\n",
       "        vertical-align: top;\n",
       "    }\n",
       "\n",
       "    .dataframe thead th {\n",
       "        text-align: right;\n",
       "    }\n",
       "</style>\n",
       "<table border=\"1\" class=\"dataframe\">\n",
       "  <thead>\n",
       "    <tr style=\"text-align: right;\">\n",
       "      <th></th>\n",
       "      <th>age</th>\n",
       "      <th>male</th>\n",
       "      <th>female</th>\n",
       "    </tr>\n",
       "  </thead>\n",
       "  <tbody>\n",
       "    <tr>\n",
       "      <th>0</th>\n",
       "      <td>10</td>\n",
       "      <td>2.0</td>\n",
       "      <td>0.0</td>\n",
       "    </tr>\n",
       "    <tr>\n",
       "      <th>1</th>\n",
       "      <td>9</td>\n",
       "      <td>1.0</td>\n",
       "      <td>2.0</td>\n",
       "    </tr>\n",
       "    <tr>\n",
       "      <th>2</th>\n",
       "      <td>12</td>\n",
       "      <td>1.0</td>\n",
       "      <td>2.0</td>\n",
       "    </tr>\n",
       "    <tr>\n",
       "      <th>3</th>\n",
       "      <td>13</td>\n",
       "      <td>2.0</td>\n",
       "      <td>0.0</td>\n",
       "    </tr>\n",
       "    <tr>\n",
       "      <th>4</th>\n",
       "      <td>15</td>\n",
       "      <td>1.0</td>\n",
       "      <td>0.0</td>\n",
       "    </tr>\n",
       "    <tr>\n",
       "      <th>5</th>\n",
       "      <td>16</td>\n",
       "      <td>0.0</td>\n",
       "      <td>1.0</td>\n",
       "    </tr>\n",
       "    <tr>\n",
       "      <th>6</th>\n",
       "      <td>14</td>\n",
       "      <td>0.0</td>\n",
       "      <td>1.0</td>\n",
       "    </tr>\n",
       "  </tbody>\n",
       "</table>\n",
       "</div>"
      ],
      "text/plain": [
       "   age  male  female\n",
       "0   10   2.0     0.0\n",
       "1    9   1.0     2.0\n",
       "2   12   1.0     2.0\n",
       "3   13   2.0     0.0\n",
       "4   15   1.0     0.0\n",
       "5   16   0.0     1.0\n",
       "6   14   0.0     1.0"
      ]
     },
     "metadata": {},
     "output_type": "display_data"
    }
   ],
   "source": [
    "import pandas as pd\n",
    "import numpy as np\n",
    "\n",
    "Age_gender = pd.DataFrame({\n",
    "    'age':[10,9,9,9,12,12,13,12,15,16,13,14,10],\n",
    "    'gender':['male','female','male','female','female','female','male','male','male','female','male','female','male']\n",
    "})\n",
    "print('Original DataFrame')\n",
    "display(Age_gender.head())\n",
    "print()\n",
    "print('Count of how much females and males are per each age DataFrame')\n",
    "display(something_per_something(Age_gender, 'age', 'gender'))"
   ]
  },
  {
   "cell_type": "code",
   "execution_count": null,
   "id": "d1e8ba37",
   "metadata": {},
   "outputs": [],
   "source": []
  }
 ],
 "metadata": {
  "kernelspec": {
   "display_name": "Python 3 (ipykernel)",
   "language": "python",
   "name": "python3"
  },
  "language_info": {
   "codemirror_mode": {
    "name": "ipython",
    "version": 3
   },
   "file_extension": ".py",
   "mimetype": "text/x-python",
   "name": "python",
   "nbconvert_exporter": "python",
   "pygments_lexer": "ipython3",
   "version": "3.9.13"
  }
 },
 "nbformat": 4,
 "nbformat_minor": 5
}
