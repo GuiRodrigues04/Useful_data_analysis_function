{
 "cells": [
  {
   "cell_type": "markdown",
   "id": "e0c115a5",
   "metadata": {},
   "source": [
    "# Useful Functions\n"
   ]
  },
  {
   "cell_type": "markdown",
   "id": "99813a35",
   "metadata": {},
   "source": [
    "This is a notebook that I will use just to write and explain some functions that I wrote to let my Analysis easier. It's important to say that I am not a ultra smart guy that knows everthing about data analysis and algorithm, I strongly believe that does't exist anyone like that, but who knows? So my codes won't be perfect and during my endless process of learning coding and algorithm I'll edit this note to let it \"better\"."
   ]
  },
  {
   "cell_type": "markdown",
   "id": "1435abb0",
   "metadata": {},
   "source": [
    "### Function 1\n",
    "#### function that count the repetitions of some element and put in a values list. And brings the labels too.\n",
    "\n",
    "It's a really simple function but is just a function done to be used to make some pizzas graphs."
   ]
  },
  {
   "cell_type": "code",
   "execution_count": 25,
   "id": "a9f56523",
   "metadata": {},
   "outputs": [],
   "source": [
    "def values_count(df, column):\n",
    "\n",
    "    values = []\n",
    "    labels = df[column].unique()\n",
    "    for index in df[column].unique():\n",
    "        values.append((df[column].value_counts()[index]))\n",
    "    \n",
    "    # you can take off this prints if you want to.\n",
    "    print('Labels: ', labels)\n",
    "    print('Repetition times: ', values)\n",
    "        \n",
    "    return( pd.DataFrame({'Labels':labels, 'Repetitions times':values}))"
   ]
  },
  {
   "cell_type": "markdown",
   "id": "fb9842e2",
   "metadata": {},
   "source": [
    "##### Exemple"
   ]
  },
  {
   "cell_type": "code",
   "execution_count": 26,
   "id": "a1603b46",
   "metadata": {},
   "outputs": [
    {
     "data": {
      "text/html": [
       "<div>\n",
       "<style scoped>\n",
       "    .dataframe tbody tr th:only-of-type {\n",
       "        vertical-align: middle;\n",
       "    }\n",
       "\n",
       "    .dataframe tbody tr th {\n",
       "        vertical-align: top;\n",
       "    }\n",
       "\n",
       "    .dataframe thead th {\n",
       "        text-align: right;\n",
       "    }\n",
       "</style>\n",
       "<table border=\"1\" class=\"dataframe\">\n",
       "  <thead>\n",
       "    <tr style=\"text-align: right;\">\n",
       "      <th></th>\n",
       "      <th>Age</th>\n",
       "      <th>Name</th>\n",
       "    </tr>\n",
       "  </thead>\n",
       "  <tbody>\n",
       "    <tr>\n",
       "      <th>0</th>\n",
       "      <td>12</td>\n",
       "      <td>Cleber</td>\n",
       "    </tr>\n",
       "    <tr>\n",
       "      <th>1</th>\n",
       "      <td>20</td>\n",
       "      <td>Cleber</td>\n",
       "    </tr>\n",
       "    <tr>\n",
       "      <th>2</th>\n",
       "      <td>21</td>\n",
       "      <td>Cleber</td>\n",
       "    </tr>\n",
       "    <tr>\n",
       "      <th>3</th>\n",
       "      <td>21</td>\n",
       "      <td>Cleber</td>\n",
       "    </tr>\n",
       "    <tr>\n",
       "      <th>4</th>\n",
       "      <td>21</td>\n",
       "      <td>Cleber</td>\n",
       "    </tr>\n",
       "    <tr>\n",
       "      <th>5</th>\n",
       "      <td>20</td>\n",
       "      <td>Cleber</td>\n",
       "    </tr>\n",
       "    <tr>\n",
       "      <th>6</th>\n",
       "      <td>15</td>\n",
       "      <td>Juana</td>\n",
       "    </tr>\n",
       "    <tr>\n",
       "      <th>7</th>\n",
       "      <td>15</td>\n",
       "      <td>Juana</td>\n",
       "    </tr>\n",
       "    <tr>\n",
       "      <th>8</th>\n",
       "      <td>15</td>\n",
       "      <td>Marks</td>\n",
       "    </tr>\n",
       "  </tbody>\n",
       "</table>\n",
       "</div>"
      ],
      "text/plain": [
       "   Age    Name\n",
       "0   12  Cleber\n",
       "1   20  Cleber\n",
       "2   21  Cleber\n",
       "3   21  Cleber\n",
       "4   21  Cleber\n",
       "5   20  Cleber\n",
       "6   15   Juana\n",
       "7   15   Juana\n",
       "8   15   Marks"
      ]
     },
     "metadata": {},
     "output_type": "display_data"
    }
   ],
   "source": [
    "import pandas as pd\n",
    "import matplotlib as mpl\n",
    "import matplotlib.pyplot as plt\n",
    "\n",
    "DF = pd.DataFrame({'Age':[12, 20, 21, 21, 21, 20, 15, 15, 15],\n",
    "      'Name':['Cleber', 'Cleber','Cleber', 'Cleber', 'Cleber', 'Cleber', 'Juana', 'Juana', 'Marks']})\n",
    "display(DF)"
   ]
  },
  {
   "cell_type": "code",
   "execution_count": 29,
   "id": "6013a427",
   "metadata": {},
   "outputs": [
    {
     "name": "stdout",
     "output_type": "stream",
     "text": [
      "Labels:  ['Cleber' 'Juana' 'Marks']\n",
      "Repetition times:  [6, 2, 1]\n"
     ]
    },
    {
     "data": {
      "text/html": [
       "<div>\n",
       "<style scoped>\n",
       "    .dataframe tbody tr th:only-of-type {\n",
       "        vertical-align: middle;\n",
       "    }\n",
       "\n",
       "    .dataframe tbody tr th {\n",
       "        vertical-align: top;\n",
       "    }\n",
       "\n",
       "    .dataframe thead th {\n",
       "        text-align: right;\n",
       "    }\n",
       "</style>\n",
       "<table border=\"1\" class=\"dataframe\">\n",
       "  <thead>\n",
       "    <tr style=\"text-align: right;\">\n",
       "      <th></th>\n",
       "      <th>Labels</th>\n",
       "      <th>Repetitions times</th>\n",
       "    </tr>\n",
       "  </thead>\n",
       "  <tbody>\n",
       "    <tr>\n",
       "      <th>0</th>\n",
       "      <td>Cleber</td>\n",
       "      <td>6</td>\n",
       "    </tr>\n",
       "    <tr>\n",
       "      <th>1</th>\n",
       "      <td>Juana</td>\n",
       "      <td>2</td>\n",
       "    </tr>\n",
       "    <tr>\n",
       "      <th>2</th>\n",
       "      <td>Marks</td>\n",
       "      <td>1</td>\n",
       "    </tr>\n",
       "  </tbody>\n",
       "</table>\n",
       "</div>"
      ],
      "text/plain": [
       "   Labels  Repetitions times\n",
       "0  Cleber                  6\n",
       "1   Juana                  2\n",
       "2   Marks                  1"
      ]
     },
     "metadata": {},
     "output_type": "display_data"
    }
   ],
   "source": [
    "display(values_count(DF, 'Name'))"
   ]
  },
  {
   "cell_type": "markdown",
   "id": "0ce83fb4",
   "metadata": {},
   "source": [
    "So we can see that the name Cleber appears six times, Juana two times and Marks one time"
   ]
  },
  {
   "cell_type": "markdown",
   "id": "23493cea",
   "metadata": {},
   "source": [
    "### Function 2\n",
    "#### Function that count the repetitions of any value of any column  based on the values of some previous column."
   ]
  },
  {
   "cell_type": "markdown",
   "id": "063c3cf7",
   "metadata": {},
   "source": [
    "Well, i know it's hard to understand but imagine that i have a column of ages and other of gender. Then i want to know the value of how much each gender repeat for each age. So I use this function.\n"
   ]
  },
  {
   "cell_type": "code",
   "execution_count": 1,
   "id": "00b9cb3d",
   "metadata": {},
   "outputs": [],
   "source": [
    "#df is the DataFrame. # column1 is the comlumn that we will use of base  # column2  is the repetitions column\n",
    "\n",
    "def something_per_something(df, column1, column2):\n",
    "    dataframe = df[[column1, column2]]\n",
    "    column1_list = (df[column1].unique())\n",
    "    column2_list = (df[column2].unique())\n",
    "    columns_transpose = []\n",
    "    for item1 in column1_list:\n",
    "        item_dataframe = dataframe[dataframe[column1] == item1]\n",
    "        columns_transpose_lines = []\n",
    "        for item2 in column2_list:\n",
    "            columns_transpose_lines.append(item_dataframe[item_dataframe[column2] == item2].size / 2)\n",
    "        columns_transpose.append(columns_transpose_lines)\n",
    "    \n",
    "    final_dataframe = pd.DataFrame()\n",
    "    final_dataframe[column1] = column1_list\n",
    "    final_columns = np.transpose(np.array(columns_transpose))\n",
    "    \n",
    "    x = 0\n",
    "    for i in final_columns:\n",
    "        final_dataframe[column2_list[x]] = i\n",
    "        x += 1\n",
    "        \n",
    "    return final_dataframe"
   ]
  },
  {
   "cell_type": "markdown",
   "id": "2cbd4e2c",
   "metadata": {},
   "source": [
    "##### Exemple"
   ]
  },
  {
   "cell_type": "code",
   "execution_count": 3,
   "id": "a1f2240a",
   "metadata": {},
   "outputs": [
    {
     "name": "stdout",
     "output_type": "stream",
     "text": [
      "Original DataFrame\n"
     ]
    },
    {
     "data": {
      "text/html": [
       "<div>\n",
       "<style scoped>\n",
       "    .dataframe tbody tr th:only-of-type {\n",
       "        vertical-align: middle;\n",
       "    }\n",
       "\n",
       "    .dataframe tbody tr th {\n",
       "        vertical-align: top;\n",
       "    }\n",
       "\n",
       "    .dataframe thead th {\n",
       "        text-align: right;\n",
       "    }\n",
       "</style>\n",
       "<table border=\"1\" class=\"dataframe\">\n",
       "  <thead>\n",
       "    <tr style=\"text-align: right;\">\n",
       "      <th></th>\n",
       "      <th>age</th>\n",
       "      <th>gender</th>\n",
       "    </tr>\n",
       "  </thead>\n",
       "  <tbody>\n",
       "    <tr>\n",
       "      <th>0</th>\n",
       "      <td>10</td>\n",
       "      <td>male</td>\n",
       "    </tr>\n",
       "    <tr>\n",
       "      <th>1</th>\n",
       "      <td>9</td>\n",
       "      <td>female</td>\n",
       "    </tr>\n",
       "    <tr>\n",
       "      <th>2</th>\n",
       "      <td>9</td>\n",
       "      <td>male</td>\n",
       "    </tr>\n",
       "    <tr>\n",
       "      <th>3</th>\n",
       "      <td>9</td>\n",
       "      <td>female</td>\n",
       "    </tr>\n",
       "    <tr>\n",
       "      <th>4</th>\n",
       "      <td>12</td>\n",
       "      <td>female</td>\n",
       "    </tr>\n",
       "    <tr>\n",
       "      <th>5</th>\n",
       "      <td>12</td>\n",
       "      <td>female</td>\n",
       "    </tr>\n",
       "    <tr>\n",
       "      <th>6</th>\n",
       "      <td>13</td>\n",
       "      <td>male</td>\n",
       "    </tr>\n",
       "    <tr>\n",
       "      <th>7</th>\n",
       "      <td>12</td>\n",
       "      <td>male</td>\n",
       "    </tr>\n",
       "    <tr>\n",
       "      <th>8</th>\n",
       "      <td>15</td>\n",
       "      <td>male</td>\n",
       "    </tr>\n",
       "    <tr>\n",
       "      <th>9</th>\n",
       "      <td>16</td>\n",
       "      <td>female</td>\n",
       "    </tr>\n",
       "    <tr>\n",
       "      <th>10</th>\n",
       "      <td>13</td>\n",
       "      <td>male</td>\n",
       "    </tr>\n",
       "    <tr>\n",
       "      <th>11</th>\n",
       "      <td>14</td>\n",
       "      <td>female</td>\n",
       "    </tr>\n",
       "    <tr>\n",
       "      <th>12</th>\n",
       "      <td>10</td>\n",
       "      <td>male</td>\n",
       "    </tr>\n",
       "  </tbody>\n",
       "</table>\n",
       "</div>"
      ],
      "text/plain": [
       "    age  gender\n",
       "0    10    male\n",
       "1     9  female\n",
       "2     9    male\n",
       "3     9  female\n",
       "4    12  female\n",
       "5    12  female\n",
       "6    13    male\n",
       "7    12    male\n",
       "8    15    male\n",
       "9    16  female\n",
       "10   13    male\n",
       "11   14  female\n",
       "12   10    male"
      ]
     },
     "metadata": {},
     "output_type": "display_data"
    },
    {
     "name": "stdout",
     "output_type": "stream",
     "text": [
      "\n",
      "Count of how much females and males are per each age DataFrame\n"
     ]
    },
    {
     "data": {
      "text/html": [
       "<div>\n",
       "<style scoped>\n",
       "    .dataframe tbody tr th:only-of-type {\n",
       "        vertical-align: middle;\n",
       "    }\n",
       "\n",
       "    .dataframe tbody tr th {\n",
       "        vertical-align: top;\n",
       "    }\n",
       "\n",
       "    .dataframe thead th {\n",
       "        text-align: right;\n",
       "    }\n",
       "</style>\n",
       "<table border=\"1\" class=\"dataframe\">\n",
       "  <thead>\n",
       "    <tr style=\"text-align: right;\">\n",
       "      <th></th>\n",
       "      <th>age</th>\n",
       "      <th>female</th>\n",
       "      <th>male</th>\n",
       "    </tr>\n",
       "  </thead>\n",
       "  <tbody>\n",
       "    <tr>\n",
       "      <th>0</th>\n",
       "      <td>9</td>\n",
       "      <td>2.0</td>\n",
       "      <td>1.0</td>\n",
       "    </tr>\n",
       "    <tr>\n",
       "      <th>1</th>\n",
       "      <td>10</td>\n",
       "      <td>0.0</td>\n",
       "      <td>2.0</td>\n",
       "    </tr>\n",
       "    <tr>\n",
       "      <th>2</th>\n",
       "      <td>12</td>\n",
       "      <td>2.0</td>\n",
       "      <td>1.0</td>\n",
       "    </tr>\n",
       "    <tr>\n",
       "      <th>3</th>\n",
       "      <td>13</td>\n",
       "      <td>0.0</td>\n",
       "      <td>2.0</td>\n",
       "    </tr>\n",
       "    <tr>\n",
       "      <th>4</th>\n",
       "      <td>14</td>\n",
       "      <td>1.0</td>\n",
       "      <td>0.0</td>\n",
       "    </tr>\n",
       "    <tr>\n",
       "      <th>5</th>\n",
       "      <td>15</td>\n",
       "      <td>0.0</td>\n",
       "      <td>1.0</td>\n",
       "    </tr>\n",
       "    <tr>\n",
       "      <th>6</th>\n",
       "      <td>16</td>\n",
       "      <td>1.0</td>\n",
       "      <td>0.0</td>\n",
       "    </tr>\n",
       "  </tbody>\n",
       "</table>\n",
       "</div>"
      ],
      "text/plain": [
       "   age  female  male\n",
       "0    9     2.0   1.0\n",
       "1   10     0.0   2.0\n",
       "2   12     2.0   1.0\n",
       "3   13     0.0   2.0\n",
       "4   14     1.0   0.0\n",
       "5   15     0.0   1.0\n",
       "6   16     1.0   0.0"
      ]
     },
     "metadata": {},
     "output_type": "display_data"
    }
   ],
   "source": [
    "import pandas as pd\n",
    "import numpy as np\n",
    "\n",
    "Age_gender = pd.DataFrame({\n",
    "    'age':[10,9,9,9,12,12,13,12,15,16,13,14,10],\n",
    "    'gender':['male','female','male','female','female','female','male','male','male','female','male','female','male']\n",
    "})\n",
    "print('Original DataFrame')\n",
    "display(Age_gender)\n",
    "print()\n",
    "print('Count of how much females and males are per each age DataFrame')\n",
    "display(something_per_something(Age_gender, 'age', 'gender'))"
   ]
  },
  {
   "cell_type": "code",
   "execution_count": null,
   "id": "99f9b19b",
   "metadata": {},
   "outputs": [],
   "source": []
  }
 ],
 "metadata": {
  "kernelspec": {
   "display_name": "Python 3 (ipykernel)",
   "language": "python",
   "name": "python3"
  },
  "language_info": {
   "codemirror_mode": {
    "name": "ipython",
    "version": 3
   },
   "file_extension": ".py",
   "mimetype": "text/x-python",
   "name": "python",
   "nbconvert_exporter": "python",
   "pygments_lexer": "ipython3",
   "version": "3.9.13"
  }
 },
 "nbformat": 4,
 "nbformat_minor": 5
}
